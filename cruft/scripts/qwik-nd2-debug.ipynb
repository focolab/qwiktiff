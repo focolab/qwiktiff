{
 "cells": [
  {
   "cell_type": "code",
   "execution_count": 1,
   "metadata": {},
   "outputs": [],
   "source": [
    "# requirements\n",
    "# pip install pims_nd2 tifffile numpy\n",
    "import tifffile as tf\n",
    "import numpy as np\n",
    "from pims import ND2_Reader\n",
    "import time"
   ]
  },
  {
   "cell_type": "code",
   "execution_count": 3,
   "metadata": {},
   "outputs": [],
   "source": [
    "# user parameters\n",
    "fname = '/users/sarah/Documents/data/data_wb/20190116_SKN/20190116_SKN_FC036_naive_111nmBtn_40xWI.nd2'\n",
    "num_z = 11"
   ]
  },
  {
   "cell_type": "code",
   "execution_count": 4,
   "metadata": {},
   "outputs": [],
   "source": [
    "# begin code\n",
    "if not fname.endswith('.nd2'):\n",
    "    print('Filename should end with .nd2 !!! Exiting...')\n",
    "    exit()"
   ]
  },
  {
   "cell_type": "code",
   "execution_count": 5,
   "metadata": {},
   "outputs": [
    {
     "name": "stdout",
     "output_type": "stream",
     "text": [
      "Converting ND2 file to tiff!\n"
     ]
    },
    {
     "name": "stderr",
     "output_type": "stream",
     "text": [
      "/Users/sarah/anaconda3/lib/python3.7/site-packages/pims/base_frames.py:522: UserWarning: Please call FramesSequenceND.__init__() at the start of thethe reader initialization.\n",
      "  warn(\"Please call FramesSequenceND.__init__() at the start of the\"\n"
     ]
    }
   ],
   "source": [
    "print('Converting ND2 file to tiff!')\n",
    "\n",
    "# load nd2 file\n",
    "frames = ND2_Reader(fname)"
   ]
  },
  {
   "cell_type": "code",
   "execution_count": 6,
   "metadata": {},
   "outputs": [],
   "source": [
    "# check if nd2 file already has z planes specified\n",
    "sizes = frames.sizes\n",
    "if 'z' in sizes:\n",
    "    print('Dataset is already organized with z = {}'.format(sizes['z']))\n",
    "    if sizes['z'] != num_z:\n",
    "        print('Dataset z does not match input z! Exiting :(')\n",
    "        exit()"
   ]
  },
  {
   "cell_type": "code",
   "execution_count": 7,
   "metadata": {},
   "outputs": [
    {
     "name": "stdout",
     "output_type": "stream",
     "text": [
      "{'x': 600, 'y': 200, 't': 54890}\n"
     ]
    }
   ],
   "source": [
    "print(frames.sizes)"
   ]
  },
  {
   "cell_type": "code",
   "execution_count": 8,
   "metadata": {},
   "outputs": [],
   "source": [
    "# guess at number of 2gb files we want to output\n",
    "# nb: data should be in 16-bit\n",
    "if frames.pixel_type != np.uint16:\n",
    "    print('Pixel data type not recognized! Currently only supports uint16')"
   ]
  },
  {
   "cell_type": "code",
   "execution_count": 16,
   "metadata": {},
   "outputs": [],
   "source": [
    "# xyz * 16 bit / 8 bits per byte\n",
    "# means to check how much space (in bytes) a volume takes up\n",
    "# fixed else: statement to calculate appropriately\n",
    "volume_byte_size = sizes['x'] * sizes['y'] * num_z * 16 / 8\n",
    "\n",
    "# 2 billion bytes is 2gb\n",
    "vols_per_file = int(np.floor(2000000000 / volume_byte_size))\n",
    "if 'z' in sizes:\n",
    "    total_files_to_output = int(np.ceil(sizes['t']/vols_per_file))\n",
    "else:\n",
    "    total_files_to_output = int(np.ceil((sizes['t']/ num_z) / vols_per_file))"
   ]
  },
  {
   "cell_type": "code",
   "execution_count": 17,
   "metadata": {},
   "outputs": [
    {
     "name": "stdout",
     "output_type": "stream",
     "text": [
      "2640000.0\n"
     ]
    }
   ],
   "source": [
    "# check\n",
    "print(volume_byte_size)"
   ]
  },
  {
   "cell_type": "code",
   "execution_count": 18,
   "metadata": {},
   "outputs": [
    {
     "name": "stdout",
     "output_type": "stream",
     "text": [
      "757\n"
     ]
    }
   ],
   "source": [
    "print(vols_per_file)"
   ]
  },
  {
   "cell_type": "code",
   "execution_count": 19,
   "metadata": {},
   "outputs": [
    {
     "data": {
      "text/plain": [
       "False"
      ]
     },
     "execution_count": 19,
     "metadata": {},
     "output_type": "execute_result"
    }
   ],
   "source": [
    "'z' in sizes"
   ]
  },
  {
   "cell_type": "code",
   "execution_count": 20,
   "metadata": {},
   "outputs": [
    {
     "name": "stdout",
     "output_type": "stream",
     "text": [
      "7\n"
     ]
    }
   ],
   "source": [
    "print(total_files_to_output)"
   ]
  },
  {
   "cell_type": "code",
   "execution_count": 21,
   "metadata": {},
   "outputs": [],
   "source": [
    "# set total number of volumes to write\n",
    "if 'z' not in sizes:\n",
    "    if sizes['t'] % num_z != 0:\n",
    "        print('Number of frames {} is not evenly divisible by {}. Clipping last frames...'.format(sizes['t'], num_z))\n",
    "    vols_to_write = sizes['t'] // num_z\n",
    "\n",
    "else:\n",
    "    vols_to_write = sizes['t']"
   ]
  },
  {
   "cell_type": "code",
   "execution_count": 22,
   "metadata": {},
   "outputs": [
    {
     "name": "stdout",
     "output_type": "stream",
     "text": [
      "4990\n"
     ]
    }
   ],
   "source": [
    "print(vols_to_write)"
   ]
  },
  {
   "cell_type": "code",
   "execution_count": 23,
   "metadata": {},
   "outputs": [],
   "source": [
    "# start writing volumes to tiff file\n",
    "output_fname_base = fname[:-4] + '_converted_'\n",
    "vol_counter = 0\n",
    "file_counter = 0\n",
    "t0 = time.time()"
   ]
  },
  {
   "cell_type": "code",
   "execution_count": 24,
   "metadata": {},
   "outputs": [
    {
     "name": "stdout",
     "output_type": "stream",
     "text": [
      "0\n",
      "1\n",
      "2\n",
      "3\n",
      "4\n",
      "5\n",
      "6\n"
     ]
    }
   ],
   "source": [
    "for output_ndx in range(total_files_to_output):\n",
    "    print(output_ndx)"
   ]
  },
  {
   "cell_type": "code",
   "execution_count": 25,
   "metadata": {},
   "outputs": [],
   "source": [
    "# by setting output_ndx to 0, we can loop through once.\n",
    "output_ndx = 0"
   ]
  },
  {
   "cell_type": "code",
   "execution_count": 27,
   "metadata": {},
   "outputs": [],
   "source": [
    "# set output fname with padded zeros\n",
    "tw = tf.TiffWriter(output_fname_base + str(file_counter).zfill(4) + '.tiff', bigtiff=True)"
   ]
  },
  {
   "cell_type": "code",
   "execution_count": 1,
   "metadata": {},
   "outputs": [],
   "source": [
    "# assemble and write volumes\n",
    "v = 0"
   ]
  },
  {
   "cell_type": "code",
   "execution_count": 30,
   "metadata": {},
   "outputs": [
    {
     "name": "stdout",
     "output_type": "stream",
     "text": [
      "Writing volume 0 of 4990\n"
     ]
    }
   ],
   "source": [
    "# helpful print statement on progress\n",
    "if vol_counter % 100 == 0:\n",
    "    print('Writing volume {} of {}'.format(vol_counter, vols_to_write))"
   ]
  },
  {
   "cell_type": "code",
   "execution_count": 2,
   "metadata": {},
   "outputs": [
    {
     "ename": "NameError",
     "evalue": "name 'sizes' is not defined",
     "output_type": "error",
     "traceback": [
      "\u001b[0;31m---------------------------------------------------------------------------\u001b[0m",
      "\u001b[0;31mNameError\u001b[0m                                 Traceback (most recent call last)",
      "\u001b[0;32m<ipython-input-2-afc5b7e503ca>\u001b[0m in \u001b[0;36m<module>\u001b[0;34m\u001b[0m\n\u001b[1;32m      1\u001b[0m \u001b[0;31m# assemble a volume from individual frames\u001b[0m\u001b[0;34m\u001b[0m\u001b[0;34m\u001b[0m\u001b[0;34m\u001b[0m\u001b[0m\n\u001b[0;32m----> 2\u001b[0;31m \u001b[0;32mif\u001b[0m \u001b[0;34m'z'\u001b[0m \u001b[0;32mnot\u001b[0m \u001b[0;32min\u001b[0m \u001b[0msizes\u001b[0m\u001b[0;34m:\u001b[0m\u001b[0;34m\u001b[0m\u001b[0;34m\u001b[0m\u001b[0m\n\u001b[0m\u001b[1;32m      3\u001b[0m     \u001b[0mvol\u001b[0m \u001b[0;34m=\u001b[0m \u001b[0mnp\u001b[0m\u001b[0;34m.\u001b[0m\u001b[0mzeros\u001b[0m\u001b[0;34m(\u001b[0m\u001b[0;34m(\u001b[0m\u001b[0mnum_z\u001b[0m\u001b[0;34m,\u001b[0m \u001b[0msizes\u001b[0m\u001b[0;34m[\u001b[0m\u001b[0;34m'y'\u001b[0m\u001b[0;34m]\u001b[0m\u001b[0;34m,\u001b[0m \u001b[0msizes\u001b[0m\u001b[0;34m[\u001b[0m\u001b[0;34m'x'\u001b[0m\u001b[0;34m]\u001b[0m\u001b[0;34m)\u001b[0m\u001b[0;34m)\u001b[0m\u001b[0;34m\u001b[0m\u001b[0;34m\u001b[0m\u001b[0m\n\u001b[1;32m      4\u001b[0m     \u001b[0;32mfor\u001b[0m \u001b[0mf\u001b[0m \u001b[0;32min\u001b[0m \u001b[0mrange\u001b[0m\u001b[0;34m(\u001b[0m\u001b[0mnum_z\u001b[0m\u001b[0;34m)\u001b[0m\u001b[0;34m:\u001b[0m\u001b[0;34m\u001b[0m\u001b[0;34m\u001b[0m\u001b[0m\n\u001b[1;32m      5\u001b[0m         \u001b[0mframe_ndx\u001b[0m \u001b[0;34m=\u001b[0m \u001b[0mvol_counter\u001b[0m \u001b[0;34m*\u001b[0m \u001b[0mnum_z\u001b[0m \u001b[0;34m+\u001b[0m \u001b[0mf\u001b[0m\u001b[0;34m\u001b[0m\u001b[0;34m\u001b[0m\u001b[0m\n",
      "\u001b[0;31mNameError\u001b[0m: name 'sizes' is not defined"
     ]
    }
   ],
   "source": [
    "# assemble a volume from individual frames\n",
    "\n",
    "if 'z' not in sizes:\n",
    "    vol = np.zeros((num_z, sizes['y'], sizes['x']))\n",
    "    for f in range(num_z):\n",
    "        frame_ndx = vol_counter * num_z + f\n",
    "        vol[f, :, :] = frames[frame_ndx]"
   ]
  },
  {
   "cell_type": "code",
   "execution_count": null,
   "metadata": {},
   "outputs": [],
   "source": []
  },
  {
   "cell_type": "code",
   "execution_count": null,
   "metadata": {},
   "outputs": [],
   "source": []
  }
 ],
 "metadata": {
  "kernelspec": {
   "display_name": "Python 3",
   "language": "python",
   "name": "python3"
  },
  "language_info": {
   "codemirror_mode": {
    "name": "ipython",
    "version": 3
   },
   "file_extension": ".py",
   "mimetype": "text/x-python",
   "name": "python",
   "nbconvert_exporter": "python",
   "pygments_lexer": "ipython3",
   "version": "3.7.3"
  }
 },
 "nbformat": 4,
 "nbformat_minor": 2
}
